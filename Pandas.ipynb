{
  "nbformat": 4,
  "nbformat_minor": 0,
  "metadata": {
    "colab": {
      "name": "FTMLE_Introduction to Pandas",
      "provenance": [],
      "collapsed_sections": [],
      "include_colab_link": true
    },
    "kernelspec": {
      "name": "python3",
      "display_name": "Python 3"
    }
  },
  "cells": [
    {
      "cell_type": "markdown",
      "metadata": {
        "id": "view-in-github",
        "colab_type": "text"
      },
      "source": [
        "<a href=\"https://colab.research.google.com/github/Trantracy/Titanic-/blob/master/Pandas.ipynb\" target=\"_parent\"><img src=\"https://colab.research.google.com/assets/colab-badge.svg\" alt=\"Open In Colab\"/></a>"
      ]
    },
    {
      "cell_type": "markdown",
      "metadata": {
        "id": "ydd9uN502-J9",
        "colab_type": "text"
      },
      "source": [
        "![](https://i.imgur.com/0AUxkXt.png)"
      ]
    },
    {
      "cell_type": "markdown",
      "metadata": {
        "id": "t3gTYxQL9pQy",
        "colab_type": "text"
      },
      "source": [
        "# Introduction to Pandas\n",
        "\n",
        "![](https://akm-img-a-in.tosshub.com/indiatoday/titanic_647_041416113640.jpg?IWI8WJ3owRLPfIO2GUMAyyypPfwvvcRV)\n",
        "\n",
        "__Pandas__ is a Python library for data analysis. It allows us to read and present the dataset in a table-like format, as well as manipulate, transform aggregate the data. _Series_ and _Dataframe_ are the two core data structures of __Pandas__.\n",
        "\n",
        "- _Series_ can be understood as one-dimensional arrays with flexible indices. It is __Pandas__ term for _column_.\n",
        "- _Dataframe_ is __Pandas__ term for _table_. A _Dataframe_ is a two-dimensional array with flexible row and column indices.\n",
        "\n",
        "\n",
        "[Pandas Documentation](https://pandas.pydata.org/pandas-docs/stable/)"
      ]
    },
    {
      "cell_type": "code",
      "metadata": {
        "id": "65uiT2ogmOfh",
        "colab_type": "code",
        "outputId": "4d3e0741-88e7-4826-b896-e9ce3a8108af",
        "colab": {
          "base_uri": "https://localhost:8080/",
          "height": 124
        }
      },
      "source": [
        "# Connect to Google Drive\n",
        "from google.colab import drive\n",
        "drive.mount('/content/drive')"
      ],
      "execution_count": 0,
      "outputs": [
        {
          "output_type": "stream",
          "text": [
            "Go to this URL in a browser: https://accounts.google.com/o/oauth2/auth?client_id=947318989803-6bn6qk8qdgf4n4g3pfee6491hc0brc4i.apps.googleusercontent.com&redirect_uri=urn%3aietf%3awg%3aoauth%3a2.0%3aoob&response_type=code&scope=email%20https%3a%2f%2fwww.googleapis.com%2fauth%2fdocs.test%20https%3a%2f%2fwww.googleapis.com%2fauth%2fdrive%20https%3a%2f%2fwww.googleapis.com%2fauth%2fdrive.photos.readonly%20https%3a%2f%2fwww.googleapis.com%2fauth%2fpeopleapi.readonly\n",
            "\n",
            "Enter your authorization code:\n",
            "··········\n",
            "Mounted at /content/drive\n"
          ],
          "name": "stdout"
        }
      ]
    },
    {
      "cell_type": "code",
      "metadata": {
        "id": "XmN5DOVyDwon",
        "colab_type": "code",
        "colab": {}
      },
      "source": [
        "# Import library\n",
        "import pandas as pd\n",
        "import numpy as np"
      ],
      "execution_count": 0,
      "outputs": []
    },
    {
      "cell_type": "markdown",
      "metadata": {
        "id": "w8w_-mSbqnH_",
        "colab_type": "text"
      },
      "source": [
        "With __Pandas__, we can load data from various data files like .csv, .tsv, Excel, and even from and SQL table, etc."
      ]
    },
    {
      "cell_type": "code",
      "metadata": {
        "id": "WR-8QG-5mQ6L",
        "colab_type": "code",
        "colab": {}
      },
      "source": [
        "# Read a csv file\n",
        "df = pd.read_csv('/content/drive/My Drive/FTMLE - Tonga/Data/titanic.csv')"
      ],
      "execution_count": 0,
      "outputs": []
    },
    {
      "cell_type": "markdown",
      "metadata": {
        "id": "c0hIopZkX1vN",
        "colab_type": "text"
      },
      "source": [
        "### DataFrame"
      ]
    },
    {
      "cell_type": "code",
      "metadata": {
        "id": "f2XSurnAts_z",
        "colab_type": "code",
        "outputId": "78c7e410-8361-4400-d9a2-5f132069cdcc",
        "colab": {
          "base_uri": "https://localhost:8080/",
          "height": 519
        }
      },
      "source": [
        "# Show the DataFrame\n",
        "df"
      ],
      "execution_count": 0,
      "outputs": [
        {
          "output_type": "execute_result",
          "data": {
            "text/html": [
              "<div>\n",
              "<style scoped>\n",
              "    .dataframe tbody tr th:only-of-type {\n",
              "        vertical-align: middle;\n",
              "    }\n",
              "\n",
              "    .dataframe tbody tr th {\n",
              "        vertical-align: top;\n",
              "    }\n",
              "\n",
              "    .dataframe thead th {\n",
              "        text-align: right;\n",
              "    }\n",
              "</style>\n",
              "<table border=\"1\" class=\"dataframe\">\n",
              "  <thead>\n",
              "    <tr style=\"text-align: right;\">\n",
              "      <th></th>\n",
              "      <th>PassengerId</th>\n",
              "      <th>Survived</th>\n",
              "      <th>Pclass</th>\n",
              "      <th>Name</th>\n",
              "      <th>Sex</th>\n",
              "      <th>Age</th>\n",
              "      <th>SibSp</th>\n",
              "      <th>Parch</th>\n",
              "      <th>Ticket</th>\n",
              "      <th>Fare</th>\n",
              "      <th>Cabin</th>\n",
              "      <th>Embarked</th>\n",
              "    </tr>\n",
              "  </thead>\n",
              "  <tbody>\n",
              "    <tr>\n",
              "      <th>0</th>\n",
              "      <td>1</td>\n",
              "      <td>0</td>\n",
              "      <td>3</td>\n",
              "      <td>Braund, Mr. Owen Harris</td>\n",
              "      <td>male</td>\n",
              "      <td>22.0</td>\n",
              "      <td>1</td>\n",
              "      <td>0</td>\n",
              "      <td>A/5 21171</td>\n",
              "      <td>7.2500</td>\n",
              "      <td>NaN</td>\n",
              "      <td>S</td>\n",
              "    </tr>\n",
              "    <tr>\n",
              "      <th>1</th>\n",
              "      <td>2</td>\n",
              "      <td>1</td>\n",
              "      <td>1</td>\n",
              "      <td>Cumings, Mrs. John Bradley (Florence Briggs Th...</td>\n",
              "      <td>female</td>\n",
              "      <td>38.0</td>\n",
              "      <td>1</td>\n",
              "      <td>0</td>\n",
              "      <td>PC 17599</td>\n",
              "      <td>71.2833</td>\n",
              "      <td>C85</td>\n",
              "      <td>C</td>\n",
              "    </tr>\n",
              "    <tr>\n",
              "      <th>2</th>\n",
              "      <td>3</td>\n",
              "      <td>1</td>\n",
              "      <td>3</td>\n",
              "      <td>Heikkinen, Miss. Laina</td>\n",
              "      <td>female</td>\n",
              "      <td>26.0</td>\n",
              "      <td>0</td>\n",
              "      <td>0</td>\n",
              "      <td>STON/O2. 3101282</td>\n",
              "      <td>7.9250</td>\n",
              "      <td>NaN</td>\n",
              "      <td>S</td>\n",
              "    </tr>\n",
              "    <tr>\n",
              "      <th>3</th>\n",
              "      <td>4</td>\n",
              "      <td>1</td>\n",
              "      <td>1</td>\n",
              "      <td>Futrelle, Mrs. Jacques Heath (Lily May Peel)</td>\n",
              "      <td>female</td>\n",
              "      <td>35.0</td>\n",
              "      <td>1</td>\n",
              "      <td>0</td>\n",
              "      <td>113803</td>\n",
              "      <td>53.1000</td>\n",
              "      <td>C123</td>\n",
              "      <td>S</td>\n",
              "    </tr>\n",
              "    <tr>\n",
              "      <th>4</th>\n",
              "      <td>5</td>\n",
              "      <td>0</td>\n",
              "      <td>3</td>\n",
              "      <td>Allen, Mr. William Henry</td>\n",
              "      <td>male</td>\n",
              "      <td>35.0</td>\n",
              "      <td>0</td>\n",
              "      <td>0</td>\n",
              "      <td>373450</td>\n",
              "      <td>8.0500</td>\n",
              "      <td>NaN</td>\n",
              "      <td>S</td>\n",
              "    </tr>\n",
              "    <tr>\n",
              "      <th>...</th>\n",
              "      <td>...</td>\n",
              "      <td>...</td>\n",
              "      <td>...</td>\n",
              "      <td>...</td>\n",
              "      <td>...</td>\n",
              "      <td>...</td>\n",
              "      <td>...</td>\n",
              "      <td>...</td>\n",
              "      <td>...</td>\n",
              "      <td>...</td>\n",
              "      <td>...</td>\n",
              "      <td>...</td>\n",
              "    </tr>\n",
              "    <tr>\n",
              "      <th>886</th>\n",
              "      <td>887</td>\n",
              "      <td>0</td>\n",
              "      <td>2</td>\n",
              "      <td>Montvila, Rev. Juozas</td>\n",
              "      <td>male</td>\n",
              "      <td>27.0</td>\n",
              "      <td>0</td>\n",
              "      <td>0</td>\n",
              "      <td>211536</td>\n",
              "      <td>13.0000</td>\n",
              "      <td>NaN</td>\n",
              "      <td>S</td>\n",
              "    </tr>\n",
              "    <tr>\n",
              "      <th>887</th>\n",
              "      <td>888</td>\n",
              "      <td>1</td>\n",
              "      <td>1</td>\n",
              "      <td>Graham, Miss. Margaret Edith</td>\n",
              "      <td>female</td>\n",
              "      <td>19.0</td>\n",
              "      <td>0</td>\n",
              "      <td>0</td>\n",
              "      <td>112053</td>\n",
              "      <td>30.0000</td>\n",
              "      <td>B42</td>\n",
              "      <td>S</td>\n",
              "    </tr>\n",
              "    <tr>\n",
              "      <th>888</th>\n",
              "      <td>889</td>\n",
              "      <td>0</td>\n",
              "      <td>3</td>\n",
              "      <td>Johnston, Miss. Catherine Helen \"Carrie\"</td>\n",
              "      <td>female</td>\n",
              "      <td>NaN</td>\n",
              "      <td>1</td>\n",
              "      <td>2</td>\n",
              "      <td>W./C. 6607</td>\n",
              "      <td>23.4500</td>\n",
              "      <td>NaN</td>\n",
              "      <td>S</td>\n",
              "    </tr>\n",
              "    <tr>\n",
              "      <th>889</th>\n",
              "      <td>890</td>\n",
              "      <td>1</td>\n",
              "      <td>1</td>\n",
              "      <td>Behr, Mr. Karl Howell</td>\n",
              "      <td>male</td>\n",
              "      <td>26.0</td>\n",
              "      <td>0</td>\n",
              "      <td>0</td>\n",
              "      <td>111369</td>\n",
              "      <td>30.0000</td>\n",
              "      <td>C148</td>\n",
              "      <td>C</td>\n",
              "    </tr>\n",
              "    <tr>\n",
              "      <th>890</th>\n",
              "      <td>891</td>\n",
              "      <td>0</td>\n",
              "      <td>3</td>\n",
              "      <td>Dooley, Mr. Patrick</td>\n",
              "      <td>male</td>\n",
              "      <td>32.0</td>\n",
              "      <td>0</td>\n",
              "      <td>0</td>\n",
              "      <td>370376</td>\n",
              "      <td>7.7500</td>\n",
              "      <td>NaN</td>\n",
              "      <td>Q</td>\n",
              "    </tr>\n",
              "  </tbody>\n",
              "</table>\n",
              "<p>891 rows × 12 columns</p>\n",
              "</div>"
            ],
            "text/plain": [
              "     PassengerId  Survived  Pclass  ...     Fare Cabin  Embarked\n",
              "0              1         0       3  ...   7.2500   NaN         S\n",
              "1              2         1       1  ...  71.2833   C85         C\n",
              "2              3         1       3  ...   7.9250   NaN         S\n",
              "3              4         1       1  ...  53.1000  C123         S\n",
              "4              5         0       3  ...   8.0500   NaN         S\n",
              "..           ...       ...     ...  ...      ...   ...       ...\n",
              "886          887         0       2  ...  13.0000   NaN         S\n",
              "887          888         1       1  ...  30.0000   B42         S\n",
              "888          889         0       3  ...  23.4500   NaN         S\n",
              "889          890         1       1  ...  30.0000  C148         C\n",
              "890          891         0       3  ...   7.7500   NaN         Q\n",
              "\n",
              "[891 rows x 12 columns]"
            ]
          },
          "metadata": {
            "tags": []
          },
          "execution_count": 4
        }
      ]
    },
    {
      "cell_type": "markdown",
      "metadata": {
        "id": "_s4pJt9a9qAT",
        "colab_type": "text"
      },
      "source": [
        "### Series"
      ]
    },
    {
      "cell_type": "code",
      "metadata": {
        "id": "2_V6sHvR-Goa",
        "colab_type": "code",
        "outputId": "108efc2c-f290-441e-9772-e228fca77de8",
        "colab": {
          "base_uri": "https://localhost:8080/",
          "height": 235
        }
      },
      "source": [
        "# Select a Series from the DataFrame\n",
        "df['Name']"
      ],
      "execution_count": 0,
      "outputs": [
        {
          "output_type": "execute_result",
          "data": {
            "text/plain": [
              "0                                Braund, Mr. Owen Harris\n",
              "1      Cumings, Mrs. John Bradley (Florence Briggs Th...\n",
              "2                                 Heikkinen, Miss. Laina\n",
              "3           Futrelle, Mrs. Jacques Heath (Lily May Peel)\n",
              "4                               Allen, Mr. William Henry\n",
              "                             ...                        \n",
              "886                                Montvila, Rev. Juozas\n",
              "887                         Graham, Miss. Margaret Edith\n",
              "888             Johnston, Miss. Catherine Helen \"Carrie\"\n",
              "889                                Behr, Mr. Karl Howell\n",
              "890                                  Dooley, Mr. Patrick\n",
              "Name: Name, Length: 891, dtype: object"
            ]
          },
          "metadata": {
            "tags": []
          },
          "execution_count": 13
        }
      ]
    },
    {
      "cell_type": "code",
      "metadata": {
        "id": "4nHXnUtNz7uN",
        "colab_type": "code",
        "outputId": "315df13c-5811-4c2f-d5a0-a8b3a2cc19e0",
        "colab": {
          "base_uri": "https://localhost:8080/",
          "height": 35
        }
      },
      "source": [
        "a = np.array(['a','b','c'])\n",
        "a[1]"
      ],
      "execution_count": 0,
      "outputs": [
        {
          "output_type": "execute_result",
          "data": {
            "text/plain": [
              "'b'"
            ]
          },
          "metadata": {
            "tags": []
          },
          "execution_count": 14
        }
      ]
    },
    {
      "cell_type": "markdown",
      "metadata": {
        "id": "kHAfr9BnXxjV",
        "colab_type": "text"
      },
      "source": [
        "### Data Selection"
      ]
    },
    {
      "cell_type": "code",
      "metadata": {
        "id": "idg6uV16YpK8",
        "colab_type": "code",
        "outputId": "8469cba0-17a3-4027-ef8c-0a8da85604a6",
        "colab": {
          "base_uri": "https://localhost:8080/",
          "height": 126
        }
      },
      "source": [
        "# Indexing\n",
        "# Label-based: loc\n",
        "\n",
        "# Integer position-based: iloc\n",
        "\n",
        "# Slicing\n",
        "\n",
        "df['Name'].loc[1:5]\n",
        "\n",
        "# Filtering"
      ],
      "execution_count": 0,
      "outputs": [
        {
          "output_type": "execute_result",
          "data": {
            "text/plain": [
              "1    Cumings, Mrs. John Bradley (Florence Briggs Th...\n",
              "2                               Heikkinen, Miss. Laina\n",
              "3         Futrelle, Mrs. Jacques Heath (Lily May Peel)\n",
              "4                             Allen, Mr. William Henry\n",
              "5                                     Moran, Mr. James\n",
              "Name: Name, dtype: object"
            ]
          },
          "metadata": {
            "tags": []
          },
          "execution_count": 15
        }
      ]
    },
    {
      "cell_type": "code",
      "metadata": {
        "id": "ahLK0JCh3XJm",
        "colab_type": "code",
        "outputId": "f926b325-3251-4bfb-832d-908657a0fb7d",
        "colab": {
          "base_uri": "https://localhost:8080/",
          "height": 254
        }
      },
      "source": [
        "# Example: loc vs iloc\n",
        "new_index = [i*2 for i in range(10)]\n",
        "new_data = [i**2 for i in range(10)]\n",
        "\n",
        "new_se = pd.Series(data = new_data, index = new_index)\n",
        "\n",
        "print(new_se)\n",
        "\n",
        "# label-based indexing\n",
        "print(new_se.loc[4])\n",
        "\n",
        "# integer-based indexing\n",
        "print(new_se.iloc[4])"
      ],
      "execution_count": 0,
      "outputs": [
        {
          "output_type": "stream",
          "text": [
            "0      0\n",
            "2      1\n",
            "4      4\n",
            "6      9\n",
            "8     16\n",
            "10    25\n",
            "12    36\n",
            "14    49\n",
            "16    64\n",
            "18    81\n",
            "dtype: int64\n",
            "4\n",
            "16\n"
          ],
          "name": "stdout"
        }
      ]
    },
    {
      "cell_type": "code",
      "metadata": {
        "id": "KMVcW9FeXwqc",
        "colab_type": "code",
        "outputId": "bb364547-db2d-49a1-b2d4-d854e5d56fc5",
        "colab": {
          "base_uri": "https://localhost:8080/",
          "height": 35
        }
      },
      "source": [
        "# Get the index\n",
        "df['Name'].index"
      ],
      "execution_count": 0,
      "outputs": [
        {
          "output_type": "execute_result",
          "data": {
            "text/plain": [
              "RangeIndex(start=0, stop=891, step=1)"
            ]
          },
          "metadata": {
            "tags": []
          },
          "execution_count": 17
        }
      ]
    },
    {
      "cell_type": "markdown",
      "metadata": {
        "id": "mmPEHLrvuIOF",
        "colab_type": "text"
      },
      "source": [
        "### Basic Operations in Pandas"
      ]
    },
    {
      "cell_type": "code",
      "metadata": {
        "id": "1ZsxH5hruJub",
        "colab_type": "code",
        "outputId": "e568997d-8965-4d4a-b306-4969cc97b1eb",
        "colab": {
          "base_uri": "https://localhost:8080/",
          "height": 959
        }
      },
      "source": [
        "# Print a summary of the data\n",
        "df.info()\n",
        "\n",
        "# Print summary statistics of the data\n",
        "df.describe()\n",
        "\n",
        "# # Count the number of rows\n",
        "len(df)\n",
        "\n",
        "# # Show 5 random rows\n",
        "df.sample(5)\n",
        "\n",
        "# # Show first 10 rows\n",
        "df.head(10)\n",
        "\n",
        "# # Show last 15 rows\n",
        "df.tail(15)"
      ],
      "execution_count": 0,
      "outputs": [
        {
          "output_type": "stream",
          "text": [
            "<class 'pandas.core.frame.DataFrame'>\n",
            "RangeIndex: 891 entries, 0 to 890\n",
            "Data columns (total 12 columns):\n",
            "PassengerId    891 non-null int64\n",
            "Survived       891 non-null int64\n",
            "Pclass         891 non-null int64\n",
            "Name           891 non-null object\n",
            "Sex            891 non-null object\n",
            "Age            714 non-null float64\n",
            "SibSp          891 non-null int64\n",
            "Parch          891 non-null int64\n",
            "Ticket         891 non-null object\n",
            "Fare           891 non-null float64\n",
            "Cabin          204 non-null object\n",
            "Embarked       889 non-null object\n",
            "dtypes: float64(2), int64(5), object(5)\n",
            "memory usage: 83.7+ KB\n"
          ],
          "name": "stdout"
        },
        {
          "output_type": "execute_result",
          "data": {
            "text/html": [
              "<div>\n",
              "<style scoped>\n",
              "    .dataframe tbody tr th:only-of-type {\n",
              "        vertical-align: middle;\n",
              "    }\n",
              "\n",
              "    .dataframe tbody tr th {\n",
              "        vertical-align: top;\n",
              "    }\n",
              "\n",
              "    .dataframe thead th {\n",
              "        text-align: right;\n",
              "    }\n",
              "</style>\n",
              "<table border=\"1\" class=\"dataframe\">\n",
              "  <thead>\n",
              "    <tr style=\"text-align: right;\">\n",
              "      <th></th>\n",
              "      <th>PassengerId</th>\n",
              "      <th>Survived</th>\n",
              "      <th>Pclass</th>\n",
              "      <th>Name</th>\n",
              "      <th>Sex</th>\n",
              "      <th>Age</th>\n",
              "      <th>SibSp</th>\n",
              "      <th>Parch</th>\n",
              "      <th>Ticket</th>\n",
              "      <th>Fare</th>\n",
              "      <th>Cabin</th>\n",
              "      <th>Embarked</th>\n",
              "    </tr>\n",
              "  </thead>\n",
              "  <tbody>\n",
              "    <tr>\n",
              "      <th>876</th>\n",
              "      <td>877</td>\n",
              "      <td>0</td>\n",
              "      <td>3</td>\n",
              "      <td>Gustafsson, Mr. Alfred Ossian</td>\n",
              "      <td>male</td>\n",
              "      <td>20.0</td>\n",
              "      <td>0</td>\n",
              "      <td>0</td>\n",
              "      <td>7534</td>\n",
              "      <td>9.8458</td>\n",
              "      <td>NaN</td>\n",
              "      <td>S</td>\n",
              "    </tr>\n",
              "    <tr>\n",
              "      <th>877</th>\n",
              "      <td>878</td>\n",
              "      <td>0</td>\n",
              "      <td>3</td>\n",
              "      <td>Petroff, Mr. Nedelio</td>\n",
              "      <td>male</td>\n",
              "      <td>19.0</td>\n",
              "      <td>0</td>\n",
              "      <td>0</td>\n",
              "      <td>349212</td>\n",
              "      <td>7.8958</td>\n",
              "      <td>NaN</td>\n",
              "      <td>S</td>\n",
              "    </tr>\n",
              "    <tr>\n",
              "      <th>878</th>\n",
              "      <td>879</td>\n",
              "      <td>0</td>\n",
              "      <td>3</td>\n",
              "      <td>Laleff, Mr. Kristo</td>\n",
              "      <td>male</td>\n",
              "      <td>NaN</td>\n",
              "      <td>0</td>\n",
              "      <td>0</td>\n",
              "      <td>349217</td>\n",
              "      <td>7.8958</td>\n",
              "      <td>NaN</td>\n",
              "      <td>S</td>\n",
              "    </tr>\n",
              "    <tr>\n",
              "      <th>879</th>\n",
              "      <td>880</td>\n",
              "      <td>1</td>\n",
              "      <td>1</td>\n",
              "      <td>Potter, Mrs. Thomas Jr (Lily Alexenia Wilson)</td>\n",
              "      <td>female</td>\n",
              "      <td>56.0</td>\n",
              "      <td>0</td>\n",
              "      <td>1</td>\n",
              "      <td>11767</td>\n",
              "      <td>83.1583</td>\n",
              "      <td>C50</td>\n",
              "      <td>C</td>\n",
              "    </tr>\n",
              "    <tr>\n",
              "      <th>880</th>\n",
              "      <td>881</td>\n",
              "      <td>1</td>\n",
              "      <td>2</td>\n",
              "      <td>Shelley, Mrs. William (Imanita Parrish Hall)</td>\n",
              "      <td>female</td>\n",
              "      <td>25.0</td>\n",
              "      <td>0</td>\n",
              "      <td>1</td>\n",
              "      <td>230433</td>\n",
              "      <td>26.0000</td>\n",
              "      <td>NaN</td>\n",
              "      <td>S</td>\n",
              "    </tr>\n",
              "    <tr>\n",
              "      <th>881</th>\n",
              "      <td>882</td>\n",
              "      <td>0</td>\n",
              "      <td>3</td>\n",
              "      <td>Markun, Mr. Johann</td>\n",
              "      <td>male</td>\n",
              "      <td>33.0</td>\n",
              "      <td>0</td>\n",
              "      <td>0</td>\n",
              "      <td>349257</td>\n",
              "      <td>7.8958</td>\n",
              "      <td>NaN</td>\n",
              "      <td>S</td>\n",
              "    </tr>\n",
              "    <tr>\n",
              "      <th>882</th>\n",
              "      <td>883</td>\n",
              "      <td>0</td>\n",
              "      <td>3</td>\n",
              "      <td>Dahlberg, Miss. Gerda Ulrika</td>\n",
              "      <td>female</td>\n",
              "      <td>22.0</td>\n",
              "      <td>0</td>\n",
              "      <td>0</td>\n",
              "      <td>7552</td>\n",
              "      <td>10.5167</td>\n",
              "      <td>NaN</td>\n",
              "      <td>S</td>\n",
              "    </tr>\n",
              "    <tr>\n",
              "      <th>883</th>\n",
              "      <td>884</td>\n",
              "      <td>0</td>\n",
              "      <td>2</td>\n",
              "      <td>Banfield, Mr. Frederick James</td>\n",
              "      <td>male</td>\n",
              "      <td>28.0</td>\n",
              "      <td>0</td>\n",
              "      <td>0</td>\n",
              "      <td>C.A./SOTON 34068</td>\n",
              "      <td>10.5000</td>\n",
              "      <td>NaN</td>\n",
              "      <td>S</td>\n",
              "    </tr>\n",
              "    <tr>\n",
              "      <th>884</th>\n",
              "      <td>885</td>\n",
              "      <td>0</td>\n",
              "      <td>3</td>\n",
              "      <td>Sutehall, Mr. Henry Jr</td>\n",
              "      <td>male</td>\n",
              "      <td>25.0</td>\n",
              "      <td>0</td>\n",
              "      <td>0</td>\n",
              "      <td>SOTON/OQ 392076</td>\n",
              "      <td>7.0500</td>\n",
              "      <td>NaN</td>\n",
              "      <td>S</td>\n",
              "    </tr>\n",
              "    <tr>\n",
              "      <th>885</th>\n",
              "      <td>886</td>\n",
              "      <td>0</td>\n",
              "      <td>3</td>\n",
              "      <td>Rice, Mrs. William (Margaret Norton)</td>\n",
              "      <td>female</td>\n",
              "      <td>39.0</td>\n",
              "      <td>0</td>\n",
              "      <td>5</td>\n",
              "      <td>382652</td>\n",
              "      <td>29.1250</td>\n",
              "      <td>NaN</td>\n",
              "      <td>Q</td>\n",
              "    </tr>\n",
              "    <tr>\n",
              "      <th>886</th>\n",
              "      <td>887</td>\n",
              "      <td>0</td>\n",
              "      <td>2</td>\n",
              "      <td>Montvila, Rev. Juozas</td>\n",
              "      <td>male</td>\n",
              "      <td>27.0</td>\n",
              "      <td>0</td>\n",
              "      <td>0</td>\n",
              "      <td>211536</td>\n",
              "      <td>13.0000</td>\n",
              "      <td>NaN</td>\n",
              "      <td>S</td>\n",
              "    </tr>\n",
              "    <tr>\n",
              "      <th>887</th>\n",
              "      <td>888</td>\n",
              "      <td>1</td>\n",
              "      <td>1</td>\n",
              "      <td>Graham, Miss. Margaret Edith</td>\n",
              "      <td>female</td>\n",
              "      <td>19.0</td>\n",
              "      <td>0</td>\n",
              "      <td>0</td>\n",
              "      <td>112053</td>\n",
              "      <td>30.0000</td>\n",
              "      <td>B42</td>\n",
              "      <td>S</td>\n",
              "    </tr>\n",
              "    <tr>\n",
              "      <th>888</th>\n",
              "      <td>889</td>\n",
              "      <td>0</td>\n",
              "      <td>3</td>\n",
              "      <td>Johnston, Miss. Catherine Helen \"Carrie\"</td>\n",
              "      <td>female</td>\n",
              "      <td>NaN</td>\n",
              "      <td>1</td>\n",
              "      <td>2</td>\n",
              "      <td>W./C. 6607</td>\n",
              "      <td>23.4500</td>\n",
              "      <td>NaN</td>\n",
              "      <td>S</td>\n",
              "    </tr>\n",
              "    <tr>\n",
              "      <th>889</th>\n",
              "      <td>890</td>\n",
              "      <td>1</td>\n",
              "      <td>1</td>\n",
              "      <td>Behr, Mr. Karl Howell</td>\n",
              "      <td>male</td>\n",
              "      <td>26.0</td>\n",
              "      <td>0</td>\n",
              "      <td>0</td>\n",
              "      <td>111369</td>\n",
              "      <td>30.0000</td>\n",
              "      <td>C148</td>\n",
              "      <td>C</td>\n",
              "    </tr>\n",
              "    <tr>\n",
              "      <th>890</th>\n",
              "      <td>891</td>\n",
              "      <td>0</td>\n",
              "      <td>3</td>\n",
              "      <td>Dooley, Mr. Patrick</td>\n",
              "      <td>male</td>\n",
              "      <td>32.0</td>\n",
              "      <td>0</td>\n",
              "      <td>0</td>\n",
              "      <td>370376</td>\n",
              "      <td>7.7500</td>\n",
              "      <td>NaN</td>\n",
              "      <td>Q</td>\n",
              "    </tr>\n",
              "  </tbody>\n",
              "</table>\n",
              "</div>"
            ],
            "text/plain": [
              "     PassengerId  Survived  Pclass  ...     Fare Cabin  Embarked\n",
              "876          877         0       3  ...   9.8458   NaN         S\n",
              "877          878         0       3  ...   7.8958   NaN         S\n",
              "878          879         0       3  ...   7.8958   NaN         S\n",
              "879          880         1       1  ...  83.1583   C50         C\n",
              "880          881         1       2  ...  26.0000   NaN         S\n",
              "881          882         0       3  ...   7.8958   NaN         S\n",
              "882          883         0       3  ...  10.5167   NaN         S\n",
              "883          884         0       2  ...  10.5000   NaN         S\n",
              "884          885         0       3  ...   7.0500   NaN         S\n",
              "885          886         0       3  ...  29.1250   NaN         Q\n",
              "886          887         0       2  ...  13.0000   NaN         S\n",
              "887          888         1       1  ...  30.0000   B42         S\n",
              "888          889         0       3  ...  23.4500   NaN         S\n",
              "889          890         1       1  ...  30.0000  C148         C\n",
              "890          891         0       3  ...   7.7500   NaN         Q\n",
              "\n",
              "[15 rows x 12 columns]"
            ]
          },
          "metadata": {
            "tags": []
          },
          "execution_count": 7
        }
      ]
    },
    {
      "cell_type": "markdown",
      "metadata": {
        "id": "YOyvYoQcvVdM",
        "colab_type": "text"
      },
      "source": [
        "### Data Exploration"
      ]
    },
    {
      "cell_type": "code",
      "metadata": {
        "id": "J8gbiZbavUpr",
        "colab_type": "code",
        "outputId": "7ea14b6e-ef69-42ab-f5e8-478f9080376b",
        "colab": {
          "base_uri": "https://localhost:8080/",
          "height": 35
        }
      },
      "source": [
        "# What is the average age of passengers on Titanic?\n",
        "df['Age'].mean()"
      ],
      "execution_count": 0,
      "outputs": [
        {
          "output_type": "execute_result",
          "data": {
            "text/plain": [
              "29.69911764705882"
            ]
          },
          "metadata": {
            "tags": []
          },
          "execution_count": 19
        }
      ]
    },
    {
      "cell_type": "code",
      "metadata": {
        "id": "6wC5vDdqwaYy",
        "colab_type": "code",
        "outputId": "798ba71f-4218-4ec1-f088-d85932d79f44",
        "colab": {
          "base_uri": "https://localhost:8080/",
          "height": 72
        }
      },
      "source": [
        "# How many males and females are there on the Titanic?\n",
        "df['Sex'].value_counts()"
      ],
      "execution_count": 0,
      "outputs": [
        {
          "output_type": "execute_result",
          "data": {
            "text/plain": [
              "male      577\n",
              "female    314\n",
              "Name: Sex, dtype: int64"
            ]
          },
          "metadata": {
            "tags": []
          },
          "execution_count": 20
        }
      ]
    },
    {
      "cell_type": "code",
      "metadata": {
        "id": "Btd-1uXAwBtF",
        "colab_type": "code",
        "outputId": "2a9b5fa5-f352-47bb-9c1a-36bbab56e734",
        "colab": {
          "base_uri": "https://localhost:8080/",
          "height": 79
        }
      },
      "source": [
        "# Who is the oldest non-survived passenger?\n",
        "max_age = df[df['Survived'] == 0]['Age'].max()\n",
        "\n",
        "# Filtering index\n",
        "# Filter / Boolean filter\n",
        "df[(df['Age'] == 74) & (df['Survived'] == 0)]"
      ],
      "execution_count": 0,
      "outputs": [
        {
          "output_type": "execute_result",
          "data": {
            "text/html": [
              "<div>\n",
              "<style scoped>\n",
              "    .dataframe tbody tr th:only-of-type {\n",
              "        vertical-align: middle;\n",
              "    }\n",
              "\n",
              "    .dataframe tbody tr th {\n",
              "        vertical-align: top;\n",
              "    }\n",
              "\n",
              "    .dataframe thead th {\n",
              "        text-align: right;\n",
              "    }\n",
              "</style>\n",
              "<table border=\"1\" class=\"dataframe\">\n",
              "  <thead>\n",
              "    <tr style=\"text-align: right;\">\n",
              "      <th></th>\n",
              "      <th>PassengerId</th>\n",
              "      <th>Survived</th>\n",
              "      <th>Pclass</th>\n",
              "      <th>Name</th>\n",
              "      <th>Sex</th>\n",
              "      <th>Age</th>\n",
              "      <th>SibSp</th>\n",
              "      <th>Parch</th>\n",
              "      <th>Ticket</th>\n",
              "      <th>Fare</th>\n",
              "      <th>Cabin</th>\n",
              "      <th>Embarked</th>\n",
              "    </tr>\n",
              "  </thead>\n",
              "  <tbody>\n",
              "    <tr>\n",
              "      <th>851</th>\n",
              "      <td>852</td>\n",
              "      <td>0</td>\n",
              "      <td>3</td>\n",
              "      <td>Svensson, Mr. Johan</td>\n",
              "      <td>male</td>\n",
              "      <td>74.0</td>\n",
              "      <td>0</td>\n",
              "      <td>0</td>\n",
              "      <td>347060</td>\n",
              "      <td>7.775</td>\n",
              "      <td>NaN</td>\n",
              "      <td>S</td>\n",
              "    </tr>\n",
              "  </tbody>\n",
              "</table>\n",
              "</div>"
            ],
            "text/plain": [
              "     PassengerId  Survived  Pclass  ...   Fare Cabin  Embarked\n",
              "851          852         0       3  ...  7.775   NaN         S\n",
              "\n",
              "[1 rows x 12 columns]"
            ]
          },
          "metadata": {
            "tags": []
          },
          "execution_count": 8
        }
      ]
    },
    {
      "cell_type": "code",
      "metadata": {
        "id": "3c-xhjv6wBE3",
        "colab_type": "code",
        "outputId": "ec4a9c03-e09e-4f64-d7fa-2ba1992c50cf",
        "colab": {
          "base_uri": "https://localhost:8080/",
          "height": 78
        }
      },
      "source": [
        "# Find passengers whose name has Jack & Rose\n",
        "df[df['Name'].str.contains('Rose')]"
      ],
      "execution_count": 0,
      "outputs": [
        {
          "output_type": "execute_result",
          "data": {
            "text/html": [
              "<div>\n",
              "<style scoped>\n",
              "    .dataframe tbody tr th:only-of-type {\n",
              "        vertical-align: middle;\n",
              "    }\n",
              "\n",
              "    .dataframe tbody tr th {\n",
              "        vertical-align: top;\n",
              "    }\n",
              "\n",
              "    .dataframe thead th {\n",
              "        text-align: right;\n",
              "    }\n",
              "</style>\n",
              "<table border=\"1\" class=\"dataframe\">\n",
              "  <thead>\n",
              "    <tr style=\"text-align: right;\">\n",
              "      <th></th>\n",
              "      <th>PassengerId</th>\n",
              "      <th>Survived</th>\n",
              "      <th>Pclass</th>\n",
              "      <th>Name</th>\n",
              "      <th>Sex</th>\n",
              "      <th>Age</th>\n",
              "      <th>SibSp</th>\n",
              "      <th>Parch</th>\n",
              "      <th>Ticket</th>\n",
              "      <th>Fare</th>\n",
              "      <th>Cabin</th>\n",
              "      <th>Embarked</th>\n",
              "    </tr>\n",
              "  </thead>\n",
              "  <tbody>\n",
              "    <tr>\n",
              "      <th>855</th>\n",
              "      <td>856</td>\n",
              "      <td>1</td>\n",
              "      <td>3</td>\n",
              "      <td>Aks, Mrs. Sam (Leah Rosen)</td>\n",
              "      <td>female</td>\n",
              "      <td>18.0</td>\n",
              "      <td>0</td>\n",
              "      <td>1</td>\n",
              "      <td>392091</td>\n",
              "      <td>9.35</td>\n",
              "      <td>NaN</td>\n",
              "      <td>S</td>\n",
              "    </tr>\n",
              "  </tbody>\n",
              "</table>\n",
              "</div>"
            ],
            "text/plain": [
              "     PassengerId  Survived  Pclass  ...  Fare Cabin  Embarked\n",
              "855          856         1       3  ...  9.35   NaN         S\n",
              "\n",
              "[1 rows x 12 columns]"
            ]
          },
          "metadata": {
            "tags": []
          },
          "execution_count": 22
        }
      ]
    },
    {
      "cell_type": "code",
      "metadata": {
        "id": "GceOCruCwKRk",
        "colab_type": "code",
        "outputId": "220a1de6-7d4d-41dc-9bb0-6fc17ce6def9",
        "colab": {
          "base_uri": "https://localhost:8080/",
          "height": 572
        }
      },
      "source": [
        "# What are different titles of passengers on the Titanic? How many are there for each title?\n",
        "\n",
        "name = 'Braund, Mr. Owen Harris'\n",
        "\n",
        "def get_title(name): # Problem here\n",
        "\n",
        "  return name.split()[1]\n",
        "\n",
        "titles = df['Name'].apply(get_title)\n",
        "\n",
        "# Unique titles\n",
        "titles.unique()\n",
        "\n",
        "# Number of unique titles\n",
        "titles.nunique()\n",
        "\n",
        "# Frequency of each title\n",
        "titles.value_counts()"
      ],
      "execution_count": 0,
      "outputs": [
        {
          "output_type": "execute_result",
          "data": {
            "text/plain": [
              "Mr.             502\n",
              "Miss.           179\n",
              "Mrs.            121\n",
              "Master.          40\n",
              "Dr.               7\n",
              "Rev.              6\n",
              "y                 4\n",
              "Planke,           3\n",
              "Impe,             3\n",
              "Mlle.             2\n",
              "Major.            2\n",
              "Col.              2\n",
              "Gordon,           2\n",
              "der               1\n",
              "Jonkheer.         1\n",
              "Capt.             1\n",
              "Walle,            1\n",
              "Pelsmaeker,       1\n",
              "Velde,            1\n",
              "the               1\n",
              "Don.              1\n",
              "Messemaeker,      1\n",
              "Carlo,            1\n",
              "Mulder,           1\n",
              "Cruyssen,         1\n",
              "Ms.               1\n",
              "Billiard,         1\n",
              "Mme.              1\n",
              "Steen,            1\n",
              "Melkebeke,        1\n",
              "Shawah,           1\n",
              "Name: Name, dtype: int64"
            ]
          },
          "metadata": {
            "tags": []
          },
          "execution_count": 10
        }
      ]
    },
    {
      "cell_type": "code",
      "metadata": {
        "id": "ok99Y0eUwDE2",
        "colab_type": "code",
        "outputId": "7508cf03-52e5-4a6a-b03d-061e258a3505",
        "colab": {
          "base_uri": "https://localhost:8080/",
          "height": 168
        }
      },
      "source": [
        "# What is the average age of passengers on each Passenger Class?\n",
        "df.groupby('Pclass').mean()[['Age']].round(2)"
      ],
      "execution_count": 0,
      "outputs": [
        {
          "output_type": "execute_result",
          "data": {
            "text/html": [
              "<div>\n",
              "<style scoped>\n",
              "    .dataframe tbody tr th:only-of-type {\n",
              "        vertical-align: middle;\n",
              "    }\n",
              "\n",
              "    .dataframe tbody tr th {\n",
              "        vertical-align: top;\n",
              "    }\n",
              "\n",
              "    .dataframe thead th {\n",
              "        text-align: right;\n",
              "    }\n",
              "</style>\n",
              "<table border=\"1\" class=\"dataframe\">\n",
              "  <thead>\n",
              "    <tr style=\"text-align: right;\">\n",
              "      <th></th>\n",
              "      <th>Age</th>\n",
              "    </tr>\n",
              "    <tr>\n",
              "      <th>Pclass</th>\n",
              "      <th></th>\n",
              "    </tr>\n",
              "  </thead>\n",
              "  <tbody>\n",
              "    <tr>\n",
              "      <th>1</th>\n",
              "      <td>38.23</td>\n",
              "    </tr>\n",
              "    <tr>\n",
              "      <th>2</th>\n",
              "      <td>29.88</td>\n",
              "    </tr>\n",
              "    <tr>\n",
              "      <th>3</th>\n",
              "      <td>25.14</td>\n",
              "    </tr>\n",
              "  </tbody>\n",
              "</table>\n",
              "</div>"
            ],
            "text/plain": [
              "          Age\n",
              "Pclass       \n",
              "1       38.23\n",
              "2       29.88\n",
              "3       25.14"
            ]
          },
          "metadata": {
            "tags": []
          },
          "execution_count": 24
        }
      ]
    },
    {
      "cell_type": "code",
      "metadata": {
        "id": "UAKagLH4wMtU",
        "colab_type": "code",
        "outputId": "74ed1321-fbc7-4d6e-de6d-7ff66cc17b87",
        "colab": {
          "base_uri": "https://localhost:8080/",
          "height": 210
        }
      },
      "source": [
        "# Who are the top three passengers paying highest ticket fare?\n",
        "df.sort_values(by = 'Fare', ascending = False).head(3)"
      ],
      "execution_count": 0,
      "outputs": [
        {
          "output_type": "execute_result",
          "data": {
            "text/html": [
              "<div>\n",
              "<style scoped>\n",
              "    .dataframe tbody tr th:only-of-type {\n",
              "        vertical-align: middle;\n",
              "    }\n",
              "\n",
              "    .dataframe tbody tr th {\n",
              "        vertical-align: top;\n",
              "    }\n",
              "\n",
              "    .dataframe thead th {\n",
              "        text-align: right;\n",
              "    }\n",
              "</style>\n",
              "<table border=\"1\" class=\"dataframe\">\n",
              "  <thead>\n",
              "    <tr style=\"text-align: right;\">\n",
              "      <th></th>\n",
              "      <th>PassengerId</th>\n",
              "      <th>Survived</th>\n",
              "      <th>Pclass</th>\n",
              "      <th>Name</th>\n",
              "      <th>Sex</th>\n",
              "      <th>Age</th>\n",
              "      <th>SibSp</th>\n",
              "      <th>Parch</th>\n",
              "      <th>Ticket</th>\n",
              "      <th>Fare</th>\n",
              "      <th>Cabin</th>\n",
              "      <th>Embarked</th>\n",
              "    </tr>\n",
              "  </thead>\n",
              "  <tbody>\n",
              "    <tr>\n",
              "      <th>258</th>\n",
              "      <td>259</td>\n",
              "      <td>1</td>\n",
              "      <td>1</td>\n",
              "      <td>Ward, Miss. Anna</td>\n",
              "      <td>female</td>\n",
              "      <td>35.0</td>\n",
              "      <td>0</td>\n",
              "      <td>0</td>\n",
              "      <td>PC 17755</td>\n",
              "      <td>512.3292</td>\n",
              "      <td>NaN</td>\n",
              "      <td>C</td>\n",
              "    </tr>\n",
              "    <tr>\n",
              "      <th>737</th>\n",
              "      <td>738</td>\n",
              "      <td>1</td>\n",
              "      <td>1</td>\n",
              "      <td>Lesurer, Mr. Gustave J</td>\n",
              "      <td>male</td>\n",
              "      <td>35.0</td>\n",
              "      <td>0</td>\n",
              "      <td>0</td>\n",
              "      <td>PC 17755</td>\n",
              "      <td>512.3292</td>\n",
              "      <td>B101</td>\n",
              "      <td>C</td>\n",
              "    </tr>\n",
              "    <tr>\n",
              "      <th>679</th>\n",
              "      <td>680</td>\n",
              "      <td>1</td>\n",
              "      <td>1</td>\n",
              "      <td>Cardeza, Mr. Thomas Drake Martinez</td>\n",
              "      <td>male</td>\n",
              "      <td>36.0</td>\n",
              "      <td>0</td>\n",
              "      <td>1</td>\n",
              "      <td>PC 17755</td>\n",
              "      <td>512.3292</td>\n",
              "      <td>B51 B53 B55</td>\n",
              "      <td>C</td>\n",
              "    </tr>\n",
              "  </tbody>\n",
              "</table>\n",
              "</div>"
            ],
            "text/plain": [
              "     PassengerId  Survived  Pclass  ...      Fare        Cabin  Embarked\n",
              "258          259         1       1  ...  512.3292          NaN         C\n",
              "737          738         1       1  ...  512.3292         B101         C\n",
              "679          680         1       1  ...  512.3292  B51 B53 B55         C\n",
              "\n",
              "[3 rows x 12 columns]"
            ]
          },
          "metadata": {
            "tags": []
          },
          "execution_count": 17
        }
      ]
    },
    {
      "cell_type": "markdown",
      "metadata": {
        "id": "vEKNdn8mVy7Q",
        "colab_type": "text"
      },
      "source": [
        "### Challenge\n",
        "\n",
        "Predict whether a passenger will survive based on the given features in the Titanic Dataset.\n",
        "\n",
        "__Twist: You can ONLY use basic Python and Pandas to complete this challenge__\n",
        "\n",
        "__Instruction__\n",
        "- Run the codes from the beginning of the notebook\n",
        "- Your task is to write a function that tell whether __a person__ survived in the Titanic incident based on given information. \n",
        "- You are not allowed to used to the column `Survived` in the dataset.\n",
        "- The function will take one single argument, which represents __a row__ of in the input data and __return 1 if that person survives and 0 if if that person does not__ (Refer to the template below)\n",
        "- You can test the accuracy of your \"model\" using the function `check_accuracy()` below. It takes the name of your function as argument.\n",
        "- __Do not reveal the accuracy of your \"model\" with your classmates!__\n",
        "- Once you are confident with your model, change the name of the model to your name (E.g. minhanh()), send me the code on a DM on Discord. My Discord name: Nguyễn Minh Anh#4144\n",
        "- Person with the highest accuracy gets 2 points. Top 2 and Top 3 will get 1 point each. In case of tie, faster submission wins.\n",
        "\n",
        "\n"
      ]
    },
    {
      "cell_type": "code",
      "metadata": {
        "id": "B7PEvJ6EeC7f",
        "colab_type": "code",
        "outputId": "d94d5cf0-c562-491d-8134-254034f7a6cc",
        "colab": {
          "base_uri": "https://localhost:8080/",
          "height": 348
        }
      },
      "source": [
        "df.sample(10)"
      ],
      "execution_count": 0,
      "outputs": [
        {
          "output_type": "execute_result",
          "data": {
            "text/html": [
              "<div>\n",
              "<style scoped>\n",
              "    .dataframe tbody tr th:only-of-type {\n",
              "        vertical-align: middle;\n",
              "    }\n",
              "\n",
              "    .dataframe tbody tr th {\n",
              "        vertical-align: top;\n",
              "    }\n",
              "\n",
              "    .dataframe thead th {\n",
              "        text-align: right;\n",
              "    }\n",
              "</style>\n",
              "<table border=\"1\" class=\"dataframe\">\n",
              "  <thead>\n",
              "    <tr style=\"text-align: right;\">\n",
              "      <th></th>\n",
              "      <th>PassengerId</th>\n",
              "      <th>Survived</th>\n",
              "      <th>Pclass</th>\n",
              "      <th>Name</th>\n",
              "      <th>Sex</th>\n",
              "      <th>Age</th>\n",
              "      <th>SibSp</th>\n",
              "      <th>Parch</th>\n",
              "      <th>Ticket</th>\n",
              "      <th>Fare</th>\n",
              "      <th>Cabin</th>\n",
              "      <th>Embarked</th>\n",
              "    </tr>\n",
              "  </thead>\n",
              "  <tbody>\n",
              "    <tr>\n",
              "      <th>427</th>\n",
              "      <td>428</td>\n",
              "      <td>1</td>\n",
              "      <td>2</td>\n",
              "      <td>Phillips, Miss. Kate Florence (\"Mrs Kate Louis...</td>\n",
              "      <td>female</td>\n",
              "      <td>19.0</td>\n",
              "      <td>0</td>\n",
              "      <td>0</td>\n",
              "      <td>250655</td>\n",
              "      <td>26.0000</td>\n",
              "      <td>NaN</td>\n",
              "      <td>S</td>\n",
              "    </tr>\n",
              "    <tr>\n",
              "      <th>889</th>\n",
              "      <td>890</td>\n",
              "      <td>1</td>\n",
              "      <td>1</td>\n",
              "      <td>Behr, Mr. Karl Howell</td>\n",
              "      <td>male</td>\n",
              "      <td>26.0</td>\n",
              "      <td>0</td>\n",
              "      <td>0</td>\n",
              "      <td>111369</td>\n",
              "      <td>30.0000</td>\n",
              "      <td>C148</td>\n",
              "      <td>C</td>\n",
              "    </tr>\n",
              "    <tr>\n",
              "      <th>264</th>\n",
              "      <td>265</td>\n",
              "      <td>0</td>\n",
              "      <td>3</td>\n",
              "      <td>Henry, Miss. Delia</td>\n",
              "      <td>female</td>\n",
              "      <td>NaN</td>\n",
              "      <td>0</td>\n",
              "      <td>0</td>\n",
              "      <td>382649</td>\n",
              "      <td>7.7500</td>\n",
              "      <td>NaN</td>\n",
              "      <td>Q</td>\n",
              "    </tr>\n",
              "    <tr>\n",
              "      <th>444</th>\n",
              "      <td>445</td>\n",
              "      <td>1</td>\n",
              "      <td>3</td>\n",
              "      <td>Johannesen-Bratthammer, Mr. Bernt</td>\n",
              "      <td>male</td>\n",
              "      <td>NaN</td>\n",
              "      <td>0</td>\n",
              "      <td>0</td>\n",
              "      <td>65306</td>\n",
              "      <td>8.1125</td>\n",
              "      <td>NaN</td>\n",
              "      <td>S</td>\n",
              "    </tr>\n",
              "    <tr>\n",
              "      <th>202</th>\n",
              "      <td>203</td>\n",
              "      <td>0</td>\n",
              "      <td>3</td>\n",
              "      <td>Johanson, Mr. Jakob Alfred</td>\n",
              "      <td>male</td>\n",
              "      <td>34.0</td>\n",
              "      <td>0</td>\n",
              "      <td>0</td>\n",
              "      <td>3101264</td>\n",
              "      <td>6.4958</td>\n",
              "      <td>NaN</td>\n",
              "      <td>S</td>\n",
              "    </tr>\n",
              "    <tr>\n",
              "      <th>743</th>\n",
              "      <td>744</td>\n",
              "      <td>0</td>\n",
              "      <td>3</td>\n",
              "      <td>McNamee, Mr. Neal</td>\n",
              "      <td>male</td>\n",
              "      <td>24.0</td>\n",
              "      <td>1</td>\n",
              "      <td>0</td>\n",
              "      <td>376566</td>\n",
              "      <td>16.1000</td>\n",
              "      <td>NaN</td>\n",
              "      <td>S</td>\n",
              "    </tr>\n",
              "    <tr>\n",
              "      <th>147</th>\n",
              "      <td>148</td>\n",
              "      <td>0</td>\n",
              "      <td>3</td>\n",
              "      <td>Ford, Miss. Robina Maggie \"Ruby\"</td>\n",
              "      <td>female</td>\n",
              "      <td>9.0</td>\n",
              "      <td>2</td>\n",
              "      <td>2</td>\n",
              "      <td>W./C. 6608</td>\n",
              "      <td>34.3750</td>\n",
              "      <td>NaN</td>\n",
              "      <td>S</td>\n",
              "    </tr>\n",
              "    <tr>\n",
              "      <th>774</th>\n",
              "      <td>775</td>\n",
              "      <td>1</td>\n",
              "      <td>2</td>\n",
              "      <td>Hocking, Mrs. Elizabeth (Eliza Needs)</td>\n",
              "      <td>female</td>\n",
              "      <td>54.0</td>\n",
              "      <td>1</td>\n",
              "      <td>3</td>\n",
              "      <td>29105</td>\n",
              "      <td>23.0000</td>\n",
              "      <td>NaN</td>\n",
              "      <td>S</td>\n",
              "    </tr>\n",
              "    <tr>\n",
              "      <th>329</th>\n",
              "      <td>330</td>\n",
              "      <td>1</td>\n",
              "      <td>1</td>\n",
              "      <td>Hippach, Miss. Jean Gertrude</td>\n",
              "      <td>female</td>\n",
              "      <td>16.0</td>\n",
              "      <td>0</td>\n",
              "      <td>1</td>\n",
              "      <td>111361</td>\n",
              "      <td>57.9792</td>\n",
              "      <td>B18</td>\n",
              "      <td>C</td>\n",
              "    </tr>\n",
              "    <tr>\n",
              "      <th>1</th>\n",
              "      <td>2</td>\n",
              "      <td>1</td>\n",
              "      <td>1</td>\n",
              "      <td>Cumings, Mrs. John Bradley (Florence Briggs Th...</td>\n",
              "      <td>female</td>\n",
              "      <td>38.0</td>\n",
              "      <td>1</td>\n",
              "      <td>0</td>\n",
              "      <td>PC 17599</td>\n",
              "      <td>71.2833</td>\n",
              "      <td>C85</td>\n",
              "      <td>C</td>\n",
              "    </tr>\n",
              "  </tbody>\n",
              "</table>\n",
              "</div>"
            ],
            "text/plain": [
              "     PassengerId  Survived  Pclass  ...     Fare Cabin  Embarked\n",
              "427          428         1       2  ...  26.0000   NaN         S\n",
              "889          890         1       1  ...  30.0000  C148         C\n",
              "264          265         0       3  ...   7.7500   NaN         Q\n",
              "444          445         1       3  ...   8.1125   NaN         S\n",
              "202          203         0       3  ...   6.4958   NaN         S\n",
              "743          744         0       3  ...  16.1000   NaN         S\n",
              "147          148         0       3  ...  34.3750   NaN         S\n",
              "774          775         1       2  ...  23.0000   NaN         S\n",
              "329          330         1       1  ...  57.9792   B18         C\n",
              "1              2         1       1  ...  71.2833   C85         C\n",
              "\n",
              "[10 rows x 12 columns]"
            ]
          },
          "metadata": {
            "tags": []
          },
          "execution_count": 26
        }
      ]
    },
    {
      "cell_type": "code",
      "metadata": {
        "id": "l-2LZIiuV2aT",
        "colab_type": "code",
        "colab": {}
      },
      "source": [
        "# Template\n",
        "# Example: Return 0 if passengers in Pclass 3 unless they are female\n",
        "\n",
        "def minhanh(passenger):\n",
        "  # Your code here\n",
        "  \n",
        "  if passenger['Pclass'] == 3:\n",
        "    if passenger['Sex'] == 'female':\n",
        "      result = 1\n",
        "    else:\n",
        "      result = 0\n",
        "  else:\n",
        "    result = 1\n",
        "  \n",
        "  return result"
      ],
      "execution_count": 0,
      "outputs": []
    },
    {
      "cell_type": "code",
      "metadata": {
        "id": "NlPI86HsXkKV",
        "colab_type": "code",
        "colab": {}
      },
      "source": [
        "# Check Accuracy (%) Function\n",
        "def check_accuracy(func):\n",
        "  \n",
        "  # Empty prediction list\n",
        "  prediction_list = []\n",
        "  \n",
        "  # Generate predictions from input func\n",
        "  for i, row in df.iterrows():\n",
        "    prediction_list.append(func(row))\n",
        "  \n",
        "  # Create accuracy list\n",
        "  accuracy = prediction_list.copy()\n",
        "  \n",
        "  # Actual result list\n",
        "  actual_results = df['Survived'].values.tolist()\n",
        "\n",
        "  # Compare prediction to actual result\n",
        "  for i, value in enumerate(actual_results):\n",
        "    if prediction_list[i] == value:\n",
        "      accuracy[i] = 1\n",
        "    else:\n",
        "      accuracy[i] = 0\n",
        "\n",
        "  score = sum(accuracy) / len(accuracy) * 100\n",
        "\n",
        "  return score"
      ],
      "execution_count": 0,
      "outputs": []
    },
    {
      "cell_type": "code",
      "metadata": {
        "id": "IlVx8lY6ae2j",
        "colab_type": "code",
        "outputId": "8937b1ae-dd68-4900-d907-c906f023a26d",
        "colab": {
          "base_uri": "https://localhost:8080/",
          "height": 35
        }
      },
      "source": [
        "# Check the accuracy of template function\n",
        "check_accuracy(minhanh)"
      ],
      "execution_count": 0,
      "outputs": [
        {
          "output_type": "execute_result",
          "data": {
            "text/plain": [
              "66.77890011223344"
            ]
          },
          "metadata": {
            "tags": []
          },
          "execution_count": 36
        }
      ]
    },
    {
      "cell_type": "code",
      "metadata": {
        "id": "dkOB8ghklg_c",
        "colab_type": "code",
        "colab": {}
      },
      "source": [
        "# Nguyen\n",
        "def nguyen(passenger):\n",
        "    # Your code here\n",
        "    if passenger['Age'] >= 15:\n",
        "        if passenger['Embarked'] == 'C':\n",
        "            result = 1\n",
        "        else:\n",
        "            result = 0\n",
        "    else:\n",
        "        result = 1\n",
        "    return result"
      ],
      "execution_count": 0,
      "outputs": []
    },
    {
      "cell_type": "code",
      "metadata": {
        "id": "eY9PyQNjlvcU",
        "colab_type": "code",
        "colab": {}
      },
      "source": [
        "# Thi\n",
        "def thinguyen(passenger):  \n",
        "    if passenger['Embarked'] != \"C\":\n",
        "      if passenger['Sex'] == 'female' :\n",
        "        result = 1\n",
        "      else:\n",
        "        result = 0\n",
        "    else:\n",
        "      result = 1\n",
        "  \n",
        "    return result"
      ],
      "execution_count": 0,
      "outputs": []
    },
    {
      "cell_type": "code",
      "metadata": {
        "id": "jBKNUUk5oeKu",
        "colab_type": "code",
        "colab": {}
      },
      "source": [
        "# Thomas\n",
        "def thomas(passenger):\n",
        "  # Your code here\n",
        "  \n",
        "  \n",
        "  if passenger['Sex'] == 'female':\n",
        "    result = 1\n",
        "  else:\n",
        "    result = 0\n",
        "  \n",
        "  return result "
      ],
      "execution_count": 0,
      "outputs": []
    },
    {
      "cell_type": "code",
      "metadata": {
        "id": "eYARBiCMoo4n",
        "colab_type": "code",
        "colab": {}
      },
      "source": [
        "# KTA\n",
        "def kta(passenger):\n",
        "  # Your code here\n",
        "  \n",
        "  if passenger['Sex'] == 'female' or passenger['Age'] <= 6:\n",
        "    return 1\n",
        "  else:\n",
        "    result = 0\n",
        "  \n",
        "  return result"
      ],
      "execution_count": 0,
      "outputs": []
    },
    {
      "cell_type": "code",
      "metadata": {
        "id": "2uEDp-gBo2lb",
        "colab_type": "code",
        "colab": {}
      },
      "source": [
        "# An\n",
        "def an_dang(passenger):\n",
        "  # Your code here\n",
        "\n",
        "  if passenger['Age'] <= 12:\n",
        "    result = 1\n",
        "  elif passenger['Sex'] == 'female' and passenger['Parch'] <= 3:\n",
        "    result = 1\n",
        "  else:\n",
        "    result = 0\n",
        "  return result"
      ],
      "execution_count": 0,
      "outputs": []
    },
    {
      "cell_type": "code",
      "metadata": {
        "id": "N8Qceh4Ro65a",
        "colab_type": "code",
        "colab": {}
      },
      "source": [
        "# Tin\n",
        "def tinngo(passenger):\n",
        "  # Your code here\n",
        "  result = 0\n",
        "  # if passenger['Pclass'] == 1:\n",
        "  if (passenger['Age'] > df['Age'].mean()):\n",
        "    if passenger['Sex'] == 'male':\n",
        "        result = 0\n",
        "    else:\n",
        "      if passenger['Parch'] > 1:\n",
        "         result = 0\n",
        "      else:\n",
        "         result = 1\n",
        "  else:\n",
        "    if passenger['Sex'] == 'female':\n",
        "        result = 1\n",
        "    else:\n",
        "        result = 0\n",
        " \n",
        "\n",
        "  return result"
      ],
      "execution_count": 0,
      "outputs": []
    },
    {
      "cell_type": "code",
      "metadata": {
        "id": "OpsXGeyypiyr",
        "colab_type": "code",
        "colab": {}
      },
      "source": [
        "# Pham Tuan Anh\n",
        "def pham_tuan_anh(passenger):\n",
        "  # Your code here\n",
        "  \n",
        "  if passenger['Pclass'] != '3' :\n",
        "    if passenger['Sex'] == 'female':\n",
        "        result = 1\n",
        "    elif passenger['Embarked'] == 'Q':\n",
        "        result = 0\n",
        "    else:\n",
        "        result = 0\n",
        "  else:\n",
        "    result = 1\n",
        "\n",
        "  return result"
      ],
      "execution_count": 0,
      "outputs": []
    },
    {
      "cell_type": "code",
      "metadata": {
        "id": "TSaEUHuSprpb",
        "colab_type": "code",
        "outputId": "45484dc9-89d8-40e1-878f-c6c49d18e465",
        "colab": {
          "base_uri": "https://localhost:8080/",
          "height": 132
        }
      },
      "source": [
        "# Tobi\n",
        "def tobi(passenger):\n",
        "  percentage_pclass = []\n",
        "  for i in set(df['Pclass']):\n",
        "    df_pclass = df[df['Pclass']==i]\n",
        "    percentage_pclass.append(round(sum(df_pclass['Survived']==1)/sum(df['Survived']==1)+1, 2))\n",
        "\n",
        "  percentage_sex = []\n",
        "  for i in set(df['Sex']):\n",
        "    df_sex = df[df['Sex']==i]\n",
        "    percentage_sex.append(round(sum(df_sex['Survived']==1)/sum(df['Survived']==1)+1, 2))\n",
        "\n",
        "  percentage_sib = []\n",
        "  for i in set(df['SibSp']):\n",
        "    df_sib = df[df['SibSp']==i]\n",
        "    percentage_sib.append(round(sum(df_sib['Survived']==1)/sum(df['Survived']==1)+1, 2))\n",
        "  percentage_sib.append(0)\n",
        "  percentage_sib.append(0)\n",
        "\n",
        "  percentage_parch = []\n",
        "  for i in set(df['Parch']):\n",
        "    df_parch = df[df['Parch']==i]\n",
        "    percentage_parch.append(round(sum(df_parch['Survived']==1)/sum(df['Survived']==1)+1, 2))\n",
        "\n",
        "  p = passenger['Pclass']-1\n",
        "  if passenger['Sex'] == 'female':\n",
        "    s = 0\n",
        "  else:\n",
        "    s = 1\n",
        "  sib = passenger['SibSp']\n",
        "  parch = passenger['Parch']\n",
        "\n",
        "  try:\n",
        "    if (percentage_pclass[p]percentage_sex[s]percentage_sib[sib]*percentage_parch[parch]-1)/4 > 1:\n",
        "      return 1\n",
        "    else:\n",
        "      return 0\n",
        "  except Exception as err:\n",
        "    print(err)\n",
        "    print(p)\n",
        "    print(s)\n",
        "    print(sib)\n",
        "    print(parch)"
      ],
      "execution_count": 0,
      "outputs": [
        {
          "output_type": "error",
          "ename": "SyntaxError",
          "evalue": "ignored",
          "traceback": [
            "\u001b[0;36m  File \u001b[0;32m\"<ipython-input-37-95fb3e635c5a>\"\u001b[0;36m, line \u001b[0;32m33\u001b[0m\n\u001b[0;31m    if (percentage_pclass[p]percentage_sex[s]percentage_sib[sib]*percentage_parch[parch]-1)/4 > 1:\u001b[0m\n\u001b[0m                                         ^\u001b[0m\n\u001b[0;31mSyntaxError\u001b[0m\u001b[0;31m:\u001b[0m invalid syntax\n"
          ]
        }
      ]
    },
    {
      "cell_type": "code",
      "metadata": {
        "id": "sIR_5PZ4qn3c",
        "colab_type": "code",
        "colab": {}
      },
      "source": [
        "# Huynh\n",
        "def huynh(passenger):\n",
        "  if passenger['Sex'] == 'female':\n",
        "    result = 1\n",
        "  else:\n",
        "    result = 0\n",
        "  if '34' in passenger['Ticket']:\n",
        "    result = 0\n",
        "\n",
        "  return result"
      ],
      "execution_count": 0,
      "outputs": []
    },
    {
      "cell_type": "code",
      "metadata": {
        "id": "xKqklb6mqvrw",
        "colab_type": "code",
        "colab": {}
      },
      "source": [
        "# Chow\n",
        "def chow(passenger):\n",
        "  # Your code here\n",
        "\n",
        "  if passenger['Pclass'] == 3 or passenger['Pclass'] == 1:\n",
        "    if passenger['Sex'] == 'female':\n",
        "      result = 1\n",
        "    elif passenger['Fare'] == 13.0000 or passenger['Fare'] == 26.0000 or passenger['Fare'] == 7.7500:\n",
        "      result = 1\n",
        "    elif passenger['Cabin'] == 'B96 B98':\n",
        "      result = 1\n",
        "    elif passenger['Parch'] == 0 and passenger['Age'] <= 28.343689655172415:\n",
        "      result = 1\n",
        "    elif passenger['Embarked'] == 'S':\n",
        "      result = 1\n",
        "    else:\n",
        "      result = 0\n",
        "  else:\n",
        "    result = 1\n",
        "  return result"
      ],
      "execution_count": 0,
      "outputs": []
    },
    {
      "cell_type": "code",
      "metadata": {
        "id": "HtgTECLMq8Jm",
        "colab_type": "code",
        "colab": {}
      },
      "source": [
        "# Kha\n",
        "def Kha(passenger):\n",
        "  if passenger['Fare'] > 20000 or passenger['Sex'] == 'female'  : \n",
        "      result = 1\n",
        "  else:\n",
        "      result = 0\n",
        "  \n",
        "  return result"
      ],
      "execution_count": 0,
      "outputs": []
    },
    {
      "cell_type": "code",
      "metadata": {
        "id": "7H64B98Gq-hs",
        "colab_type": "code",
        "colab": {}
      },
      "source": [
        "# Tran\n",
        "def trantran(passenger):\n",
        "  # Your code here\n",
        "\n",
        "  if passenger['Pclass'] == 3:\n",
        "    if passenger['Sex'] == 'female' and passenger[\"Embarked\"] ==\"S\":\n",
        "      result = 1\n",
        "    else:\n",
        "      result = 0\n",
        "  else:\n",
        "    result = 1\n",
        "\n",
        "  return result"
      ],
      "execution_count": 0,
      "outputs": []
    },
    {
      "cell_type": "code",
      "metadata": {
        "id": "vCJWPxrarTOD",
        "colab_type": "code",
        "colab": {}
      },
      "source": [
        "# An vu\n",
        "def vuquocan(passenger):\n",
        "  # Your code here\n",
        "  basechance = 549/891\n",
        "  chance = basechance\n",
        "  if passenger['Sex'] == 'female':\n",
        "    chance += 0.25\n",
        "  if passenger['Sex'] == 'male':\n",
        "    chance -= 0.25\n",
        "\n",
        "  if passenger[\"Pclass\"] == 3:\n",
        "    chance -= 0.14\n",
        "  if passenger[\"Pclass\"] == 2:\n",
        "    chance -= 0.05\n",
        "  if passenger[\"Pclass\"] == 1:\n",
        "    chance += 0.05\n",
        "  if passenger[\"Age\"] < 15:\n",
        "    chance += 0.1\n",
        "\n",
        "  if chance > 0.5:\n",
        "    return 1\n",
        "  else:\n",
        "    return 0\n",
        "  return result"
      ],
      "execution_count": 0,
      "outputs": []
    },
    {
      "cell_type": "code",
      "metadata": {
        "id": "W7jt_tpYrYp2",
        "colab_type": "code",
        "colab": {}
      },
      "source": [
        "# Phuc\n",
        "def phuctran(passenger):\n",
        "  # Your code here\n",
        "  result = 0\n",
        "  if passenger['Pclass'] == 3:\n",
        "    if passenger['Sex'] == 'female':\n",
        "      result = 1\n",
        "    else:\n",
        "      result = 0\n",
        "  else:\n",
        "    result = 1\n",
        "\n",
        "  if passenger['Pclass'] == 1:\n",
        "    if passenger['Sex'] == 'female':\n",
        "      result = 1\n",
        "    else:\n",
        "      result = 0\n",
        "  \n",
        "  age = passenger['Age']\n",
        "  if passenger['Parch'] >= 1 and age < 10:\n",
        "    return 0\n",
        "\n",
        "  return result"
      ],
      "execution_count": 0,
      "outputs": []
    },
    {
      "cell_type": "code",
      "metadata": {
        "id": "eGpWZDldrlK6",
        "colab_type": "code",
        "colab": {}
      },
      "source": [
        "# Nguyen\n",
        "def nguyen(passenger):\n",
        "    if passenger['Pclass'] > 1:\n",
        "        result = 0\n",
        "    else:\n",
        "        result = 1\n",
        "    return result"
      ],
      "execution_count": 0,
      "outputs": []
    },
    {
      "cell_type": "code",
      "metadata": {
        "id": "7joX1NrvrsTJ",
        "colab_type": "code",
        "colab": {}
      },
      "source": [
        "# Dung\n",
        "def dung(passenger):\n",
        "  # Your code here\n",
        "  result = 0\n",
        "  if passenger['Sex'] == 'female':\n",
        "    result = 1\n",
        "  if passenger['Fare'] > 270:\n",
        "    result = 1\n",
        "  if passenger['Sex'] == 'male':\n",
        "      if passenger['Ticket'] == 'STON/O 2. 3101286':\n",
        "        result = 1\n",
        "      if passenger['Ticket'] == 'PC 17572':\n",
        "        result = 1\n",
        "  return result"
      ],
      "execution_count": 0,
      "outputs": []
    },
    {
      "cell_type": "code",
      "metadata": {
        "id": "35c7Hkf7rz6e",
        "colab_type": "code",
        "colab": {}
      },
      "source": [
        "# Nguyet Do\n",
        "def nguyetdo(passenger):\n",
        "  for index, passenger in data.iterrows():\n",
        "  # Your code here\n",
        "    if passenger['Sex'] == 'female':\n",
        "      if passenger['Pclass'] == 3 and passenger['Age'] > 40 and passenger['Age'] < 60:\n",
        "        result = 0\n",
        "      elif passenger['Pclass'] == 1 and passenger['Age'] < 10:\n",
        "        result = 0\n",
        "      else:\n",
        "        result = 1\n",
        "\n",
        "    if passenger['Sex'] == 'male':\n",
        "      if passenger['Pclass'] == 2 and passenger['Age'] < 10:\n",
        "        result = 1\n",
        "      elif passenger['Pclass'] == 1 and passenger['Age'] < 40:\n",
        "        result = 1\n",
        "      else:\n",
        "        result = 0\n",
        "\n",
        "    # Return our predictions\n",
        "      return result"
      ],
      "execution_count": 0,
      "outputs": []
    },
    {
      "cell_type": "code",
      "metadata": {
        "id": "HVN8OOjwfAJl",
        "colab_type": "code",
        "cellView": "both",
        "outputId": "2221d149-db56-4579-ac1d-64252acbf3f0",
        "colab": {
          "base_uri": "https://localhost:8080/",
          "height": 825
        }
      },
      "source": [
        "#@title Evaluate the prediction accuracy of participants\n",
        "\n",
        "# Initialize empty lists\n",
        "name_list = []\n",
        "score_list = []\n",
        "message_list = []\n",
        "\n",
        "# Initialize input value\n",
        "raw_input = ''\n",
        "\n",
        "# Keep running until inputting 'stop'\n",
        "while raw_input != 'stop':\n",
        "  \n",
        "  print(\"+ Input name and function here:\")\n",
        "  \n",
        "  # Input\n",
        "  raw_input = input()\n",
        "  \n",
        "  try:\n",
        "    \n",
        "    # Split the name\n",
        "    name = raw_input.split(',')[0]\n",
        "    \n",
        "    # Check if name existed\n",
        "    if name in name_list:\n",
        "      print(\"ERROR: Name already taken. Please Try again.\")\n",
        "      pass\n",
        "    \n",
        "    else:\n",
        "      \n",
        "      # Generate message. Add name, score & message to respective list\n",
        "      name_list.append(name)\n",
        "      input_data = eval(\"check_accuracy({})\".format(raw_input.split(',')[1]))\n",
        "      score_list.append(input_data)\n",
        "\n",
        "      message = (name + \" - Accuracy Score: \" + str(input_data) + \"%\") \n",
        "      message_list.append(message)\n",
        "    \n",
        "  except:\n",
        "    # Pass if error (when inputting 'stop')\n",
        "    pass\n",
        "  \n",
        "# Print final results with winner\n",
        "print('--- RESULTS ---')\n",
        "for i, value in enumerate(score_list):\n",
        "  \n",
        "  if value == max(score_list):\n",
        "    print(message_list[i], \"- WINNER!!\")\n",
        "    \n",
        "  else:\n",
        "    print(message_list[i])"
      ],
      "execution_count": 0,
      "outputs": [
        {
          "output_type": "stream",
          "text": [
            "+ Input name and function here:\n",
            "thi,thinguyen\n",
            "+ Input name and function here:\n",
            "thomas,thomas\n",
            "+ Input name and function here:\n",
            "kta,kta\n",
            "+ Input name and function here:\n",
            "an_dang,an_dang\n",
            "+ Input name and function here:\n",
            "tin,tinngo\n",
            "+ Input name and function here:\n",
            "pta,pham_tuan_anh\n",
            "+ Input name and function here:\n",
            "tobi,tobi\n",
            "+ Input name and function here:\n",
            "Huynh,huynh\n",
            "+ Input name and function here:\n",
            "chow,chow\n",
            "+ Input name and function here:\n",
            "kha,kha\n",
            "+ Input name and function here:\n",
            "tran,trantran\n",
            "+ Input name and function here:\n",
            "Anvu,vuquocan\n",
            "+ Input name and function here:\n",
            "phuc,phuctran\n",
            "+ Input name and function here:\n",
            "nguyen,nguyen\n",
            "+ Input name and function here:\n",
            "dung,dung\n",
            "+ Input name and function here:\n",
            "nguyetdo,nguyetdo\n",
            "+ Input name and function here:\n",
            "stop\n",
            "--- RESULTS ---\n",
            "thi - Accuracy Score: 74.5230078563412%\n",
            "thomas - Accuracy Score: 78.67564534231201%\n",
            "kta - Accuracy Score: 79.57351290684625%\n",
            "an_dang - Accuracy Score: 79.7979797979798% - WINNER!!\n",
            "tin - Accuracy Score: 78.56341189674522%\n",
            "pta - Accuracy Score: 78.67564534231201%\n",
            "tran - Accuracy Score: 64.3097643097643%\n",
            "Anvu - Accuracy Score: 79.01234567901234%\n",
            "phuc - Accuracy Score: 68.5746352413019%\n",
            "nguyen - Accuracy Score: 67.90123456790124%\n",
            "dung - Accuracy Score: 79.2368125701459%\n"
          ],
          "name": "stdout"
        }
      ]
    },
    {
      "cell_type": "code",
      "metadata": {
        "id": "vHVU9pGtwKCs",
        "colab_type": "code",
        "colab": {}
      },
      "source": [
        ""
      ],
      "execution_count": 0,
      "outputs": []
    },
    {
      "cell_type": "code",
      "metadata": {
        "id": "rV1zqi63tLjq",
        "colab_type": "code",
        "outputId": "20650fbb-e3f8-4daf-c090-6aac62f2a542",
        "colab": {
          "base_uri": "https://localhost:8080/",
          "height": 122
        }
      },
      "source": [
        "#@title Evaluate the prediction accuracy of participants\n",
        "\n",
        "# Initialize empty lists\n",
        "name_list = []\n",
        "score_list = []\n",
        "message_list = []\n",
        "\n",
        "# Initialize input value\n",
        "raw_input = ''\n",
        "\n",
        "# Keep running until inputting 'stop'\n",
        "while raw_input != 'stop':\n",
        "  \n",
        "  print(\"+ Input name and function here:\")\n",
        "  \n",
        "  # Input\n",
        "  raw_input = input()\n",
        "  \n",
        "  try:\n",
        "    \n",
        "    # Split the name\n",
        "    name = raw_input.split(',')[0]\n",
        "    \n",
        "    # Check if name existed\n",
        "    if name in name_list:\n",
        "      print(\"ERROR: Name already taken. Please Try again.\")\n",
        "      pass\n",
        "    \n",
        "    else:\n",
        "      \n",
        "      # Generate message. Add name, score & message to respective list\n",
        "      name_list.append(name)\n",
        "      input_data = eval(\"check_accuracy({})\".format(raw_input.split(',')[1]))\n",
        "      score_list.append(input_data)\n",
        "\n",
        "      message = (name + \" - Accuracy Score: \" + str(input_data) + \"%\") \n",
        "      message_list.append(message)\n",
        "    \n",
        "  except:\n",
        "    # Pass if error (when inputting 'stop')\n",
        "    pass\n",
        "  \n",
        "# Print final results with winner\n",
        "print('--- RESULTS ---')\n",
        "for i, value in enumerate(score_list):\n",
        "  \n",
        "  if value == max(score_list):\n",
        "    print(message_list[i], \"- WINNER!!\")\n",
        "    \n",
        "  else:\n",
        "    print(message_list[i])"
      ],
      "execution_count": 0,
      "outputs": [
        {
          "output_type": "stream",
          "text": [
            "+ Input name and function here:\n",
            "kha,Kha\n",
            "+ Input name and function here:\n",
            "stop\n",
            "--- RESULTS ---\n",
            "kha - Accuracy Score: 78.67564534231201% - WINNER!!\n"
          ],
          "name": "stdout"
        }
      ]
    },
    {
      "cell_type": "code",
      "metadata": {
        "id": "0_AwyCpxuxHN",
        "colab_type": "code",
        "colab": {}
      },
      "source": [
        ""
      ],
      "execution_count": 0,
      "outputs": []
    }
  ]
}